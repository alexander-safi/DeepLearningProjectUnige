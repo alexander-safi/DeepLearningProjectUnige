{
 "cells": [
  {
   "cell_type": "code",
   "execution_count": 136,
   "metadata": {},
   "outputs": [],
   "source": [
    "import numpy as np\n",
    "import math  \n",
    "import torch\n",
    "import torch.nn as nn\n",
    "import torch.nn.functional as functional\n",
    "import torch.optim as optim\n",
    "\n",
    "torch.set_grad_enabled(False)   \n",
    "x=torch.randn(2,1000)\n",
    "y=torch.maximum(torch.sign(1/(2*math.pi)-(x[0,:]-0.5)**2+(x[1,:]-0.5)**2),torch.zeros(1000))\n",
    "\n",
    "class ReLU_t(tensor):\n",
    "    def __call__(self,x):\n",
    "        return torch.maximum(x,torch.zeros(x.size()))\n",
    "    def gradient(self,x):\n",
    "        return x>0\n",
    "\n",
    "\n",
    "class tanh_t(tensor):\n",
    "    def __call__(self,x):\n",
    "        return (torch.exp(tensor)-torch.exp(-tensor))/(torch.exp(tensor)+torch.exp(-tensor))  \n",
    "    def gradient(self,x):\n",
    "        return torch.ones(x.size())-(torch.exp(tensor)-torch.exp(-tensor))/(torch.exp(tensor)+torch.exp(-tensor)) **2\n",
    "\n"
   ]
  },
  {
   "cell_type": "code",
   "execution_count": 132,
   "metadata": {},
   "outputs": [],
   "source": [
    "def init_par():\n",
    "    W1=torch.randn(2,1000)\n",
    "    b1=torch.randn(2,1)\n",
    "    W2=torch.randn(1,1000)\n",
    "    b2=torch.randn(25,1)\n",
    "    return W1, b1, W2, b2\n",
    "def forward_pass(W1,b1,W2,b2,X):\n",
    "    Z1=torch.dot(W1,X)+b1\n",
    "    A1=ReLU_t(Z1)\n",
    "    Z2=torch.dot(W2,A1)+b2\n",
    "    A2=Tanh_t(Z2)\n",
    "    return Z1,A1,Z2,A2\n",
    "def backward_pass(Z1,A1,A2,W2,X,Y):\n",
    "\n",
    "        \n",
    "\n",
    "    \n",
    "    \n",
    "    \n",
    "    "
   ]
  }
 ],
 "metadata": {
  "kernelspec": {
   "display_name": "Python 3",
   "language": "python",
   "name": "python3"
  },
  "language_info": {
   "codemirror_mode": {
    "name": "ipython",
    "version": 3
   },
   "file_extension": ".py",
   "mimetype": "text/x-python",
   "name": "python",
   "nbconvert_exporter": "python",
   "pygments_lexer": "ipython3",
   "version": "3.7.6"
  }
 },
 "nbformat": 4,
 "nbformat_minor": 4
}
